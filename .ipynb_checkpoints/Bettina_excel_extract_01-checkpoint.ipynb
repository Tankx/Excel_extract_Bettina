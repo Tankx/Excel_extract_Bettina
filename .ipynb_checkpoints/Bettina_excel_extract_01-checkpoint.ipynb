{
 "cells": [
  {
   "cell_type": "markdown",
   "metadata": {},
   "source": [
    "# Excel extration with openpyxl and pandas for Bettina"
   ]
  },
  {
   "cell_type": "code",
   "execution_count": 12,
   "metadata": {},
   "outputs": [],
   "source": [
    "import openpyxl as oxl\n",
    "import os\n",
    "import pandas as pd"
   ]
  },
  {
   "cell_type": "code",
   "execution_count": 13,
   "metadata": {},
   "outputs": [],
   "source": [
    "AM_list = ['F', 'G', 'H', 'I', 'J', 'K', 'L', 'M', 'N', 'O', 'P', 'Q', 'R', 'S', 'T', 'U', 'V', 'W', 'X', 'Y', 'Z', 'AA', 'AB', 'AC', 'AD', 'AE', 'AF', 'AG', 'AH', 'AI', 'AJ' ]\n",
    "PM_list = ['AM', 'AN', 'AO', 'AP', 'AQ', 'AR', 'AS', 'AT', 'AU', 'AV', 'AW', 'AX', 'AY', 'AZ', 'BA', 'BB', 'BC', 'BD', 'BE', 'BF', 'BG', 'BH', 'BI', 'BJ', 'BK', 'BL', 'BM', 'BN', 'BO', 'BP', 'BQ' ]"
   ]
  },
  {
   "cell_type": "code",
   "execution_count": 14,
   "metadata": {},
   "outputs": [],
   "source": [
    "file = 'Site2_Kanyamazane_Toad street_2019.xlsx'\n",
    "# Import excel to openpyxl\n",
    "wb_oxl = oxl.load_workbook(file)\n",
    "\n"
   ]
  },
  {
   "cell_type": "code",
   "execution_count": 15,
   "metadata": {},
   "outputs": [],
   "source": [
    "# Import excel file to pandas and clean\n",
    "# Extract the data from the source file into python\n",
    "def excel_pd_clean(file, sheet):\n",
    "    global ts_label\n",
    "    global q_label\n",
    "    wb_pd = pd.read_excel(file, sheet_name=sheet)\n",
    "    if 'stamp' in wb_pd.columns[0].lower():\n",
    "        ts_label = wb_pd.columns[0]                                         # Specify the label from the document, in case its misspelled\n",
    "        q_label = wb_pd.columns[1]                                          # Specify the label from the document, in case its misspelled\n",
    "\n",
    "    wb_pd[ts_label] = wb_pd[ts_label].apply(lambda x: pd.to_datetime(x))    # Convert to pandas timestamp\n",
    "    return wb_pd\n"
   ]
  },
  {
   "cell_type": "code",
   "execution_count": 16,
   "metadata": {},
   "outputs": [],
   "source": [
    "# Add the AM and PM thingy\n",
    "def add_AM_PM(wb_pd, wb_oxl, sheet):\n",
    "    AM_PM_list = list(wb_pd[ts_label].dt.strftime('%p').values)\n",
    "\n",
    "    for row in wb_oxl[sheet].iter_rows(min_row=wb_oxl[sheet].min_row, max_row=wb_oxl[sheet].max_row, min_col=1, max_col=2):\n",
    "        for cell in row:\n",
    "            if cell.column_letter == 'A':\n",
    "                try:\n",
    "                    AM_PM_val = cell.value.strftime('%p')\n",
    "                    wb_oxl[sheet]['C' + str(cell.row)] = AM_PM_val\n",
    "                except Exception:\n",
    "                    pass"
   ]
  },
  {
   "cell_type": "code",
   "execution_count": 17,
   "metadata": {},
   "outputs": [],
   "source": [
    "# Generate a list of days in the month\n",
    "def days_in_sht(wb_pd):\n",
    "    days_in_sheet = []\n",
    "    for i, row in wb_pd[ts_label].iteritems():\n",
    "        if row.day not in days_in_sheet:\n",
    "            days_in_sheet.append(row.day)\n",
    "    days_in_sheet = list(range(min(days_in_sheet), max(days_in_sheet)+1)) # Redo this part to make sure their are no missing days before and after\n",
    "    return days_in_sheet"
   ]
  },
  {
   "cell_type": "code",
   "execution_count": 18,
   "metadata": {
    "scrolled": true
   },
   "outputs": [],
   "source": [
    "def add_data_to_new_excel (wb_pd, days_in_sheet):\n",
    "    month = wb_pd[ts_label].iloc[10].month          # It's lazy, but I just sample from the tenth row and grab the month number\n",
    "    year = wb_pd[ts_label].iloc[10].year            # Lazy, grabbed the year\n",
    "\n",
    "    AM = (wb_pd\n",
    "          .set_index(ts_label)\n",
    "          .between_time('0:00', '12:00')\n",
    "          .reset_index()\n",
    "          .copy()\n",
    "         )\n",
    "    PM = (wb_pd\n",
    "          .set_index(ts_label)\n",
    "          .between_time('12:00', '0:00')\n",
    "          .reset_index()\n",
    "          .copy()\n",
    "          )\n",
    "\n",
    "    for day in days_in_sheet:\n",
    "#         print (day)\n",
    "        section = list(AM[(AM[ts_label] > pd.Timestamp(year=year, month=month, day=day)) & (AM[ts_label] < pd.Timestamp(year=year, month=month, day=day) + pd.DateOffset(1))][q_label].values)\n",
    "        col = AM_list[day-1]\n",
    "        wb_oxl[sheet][col + '1'] = pd.Timestamp(year=year, month=month, day=day).strftime('%Y-%b-%d')\n",
    "        wb_oxl[sheet][col + '2'] = 'Average Q (L/s)'\n",
    "\n",
    "        for index, val_q in enumerate(section):\n",
    "            wb_oxl[sheet][col + str(3+index)] = float(val_q)\n",
    "\n",
    "    for day in days_in_sheet:\n",
    "        section = list(PM[(PM[ts_label] > pd.Timestamp(year=year, month=month, day=day)) & (PM[ts_label] < pd.Timestamp(year=year, month=month, day=day) + pd.DateOffset(1))][q_label].values)\n",
    "        col = PM_list[day-1]\n",
    "        wb_oxl[sheet][col + '1'] = pd.Timestamp(year=year, month=month, day=day).strftime('%Y-%b-%d')\n",
    "        wb_oxl[sheet][col + '2'] = 'Average Q (L/s)'\n",
    "\n",
    "        for index, val_q in enumerate(section):\n",
    "            wb_oxl[sheet][col + str(3+index)] = float(val_q)"
   ]
  },
  {
   "cell_type": "code",
   "execution_count": null,
   "metadata": {},
   "outputs": [],
   "source": []
  },
  {
   "cell_type": "code",
   "execution_count": 19,
   "metadata": {},
   "outputs": [],
   "source": [
    "sheet_list = wb_oxl.sheetnames\n",
    "for sheet in sheet_list:\n",
    "    wb_pd = excel_pd_clean(file, sheet)      # Pull excel file into pandas dataframe and clean timestamps\n",
    "\n",
    "    add_AM_PM(wb_pd, wb_oxl, sheet)          # Add AM and PM to olx doc (still to be saved)\n",
    "\n",
    "    wb_pd = wb_pd[wb_pd[q_label] > 0.01 ]    # Remove all rows with zero\n",
    "\n",
    "    days_in_sheet = days_in_sht(wb_pd)       #create a list of days to find right column letter and parse correctly\n",
    "\n",
    "    add_data_to_new_excel (wb_pd, days_in_sheet)"
   ]
  },
  {
   "cell_type": "code",
   "execution_count": 20,
   "metadata": {},
   "outputs": [],
   "source": [
    "wb_oxl.save('Data_Analysis_' + file[:-5]  + '.xlsx')"
   ]
  },
  {
   "cell_type": "code",
   "execution_count": null,
   "metadata": {},
   "outputs": [],
   "source": []
  },
  {
   "cell_type": "code",
   "execution_count": null,
   "metadata": {},
   "outputs": [],
   "source": []
  }
 ],
 "metadata": {
  "kernelspec": {
   "display_name": "Python 3",
   "language": "python",
   "name": "python3"
  },
  "language_info": {
   "codemirror_mode": {
    "name": "ipython",
    "version": 3
   },
   "file_extension": ".py",
   "mimetype": "text/x-python",
   "name": "python",
   "nbconvert_exporter": "python",
   "pygments_lexer": "ipython3",
   "version": "3.7.4"
  }
 },
 "nbformat": 4,
 "nbformat_minor": 2
}
