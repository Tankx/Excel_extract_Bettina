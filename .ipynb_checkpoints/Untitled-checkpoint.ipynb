{
 "cells": [
  {
   "cell_type": "code",
   "execution_count": 17,
   "metadata": {},
   "outputs": [],
   "source": [
    "import openpyxl as oxl\n",
    "import os\n",
    "import pandas as pd"
   ]
  },
  {
   "cell_type": "code",
   "execution_count": 18,
   "metadata": {},
   "outputs": [],
   "source": [
    "AM_list = ['F', 'G', 'H', 'I', 'J', 'K', 'L', 'M', 'N', 'O', 'P', 'Q', 'R', 'S', 'T', 'U', 'V', 'W', 'X', 'Y', 'Z', 'AA', 'AB', 'AC', 'AD', 'AE', 'AF', 'AG', 'AH', 'AI', 'AJ' ]\n",
    "PM_list = ['AM', 'AN', 'AO', 'AP', 'AQ', 'AR', 'AS', 'AT', 'AU', 'AV', 'AW', 'AX', 'AY', 'AZ', 'BA', 'BB', 'BC', 'BD', 'BE', 'BF', 'BG', 'BH', 'BI', 'BJ', 'BK', 'BL', 'BM', 'BN', 'BO', 'BP', 'BQ' ]"
   ]
  },
  {
   "cell_type": "code",
   "execution_count": 19,
   "metadata": {},
   "outputs": [],
   "source": [
    "wb_oxl = oxl.load_workbook('Site1_Matsulu_Vodacom_2019.xlsx')"
   ]
  },
  {
   "cell_type": "code",
   "execution_count": 20,
   "metadata": {},
   "outputs": [
    {
     "data": {
      "text/plain": [
       "'S1_Matsulu_July19'"
      ]
     },
     "execution_count": 20,
     "metadata": {},
     "output_type": "execute_result"
    }
   ],
   "source": [
    "sheet_list = wb_oxl.sheetnames\n",
    "sheet = sheet_list[0]\n",
    "sheet"
   ]
  },
  {
   "cell_type": "code",
   "execution_count": 21,
   "metadata": {},
   "outputs": [],
   "source": [
    "# Extract the data from the source file into python\n",
    "wb_pd = pd.read_excel('Site1_Matsulu_Vodacom_2019.xlsx', sheet_name=sheet)\n",
    "if 'stamp' in wb_pd.columns[0].lower():\n",
    "    ts_label = wb_pd.columns[0]                                         # Specify the label from the document, in case its misspelled\n",
    "    q_label = wb_pd.columns[1]                                          # Specify the label from the document, in case its misspelled\n",
    "    \n",
    "wb_pd[ts_label] = wb_pd[ts_label].apply(lambda x: pd.to_datetime(x))    # Convert to pandas timestamp"
   ]
  },
  {
   "cell_type": "code",
   "execution_count": 22,
   "metadata": {},
   "outputs": [],
   "source": [
    "# Add the AM and PM thingy\n",
    "AM_PM_list = list(wb_pd[ts_label].dt.strftime('%p').values)\n",
    "\n",
    "for row in wb_oxl[sheet].iter_rows(min_row=wb_oxl[sheet].min_row, max_row=wb_oxl[sheet].max_row, min_col=1, max_col=2):\n",
    "    for cell in row:\n",
    "        if cell.column_letter == 'A':\n",
    "            try:\n",
    "                AM_PM_val = cell.value.strftime('%p')\n",
    "                wb_oxl[sheet]['C' + str(cell.row)] = AM_PM_val\n",
    "            except Exception:\n",
    "                pass"
   ]
  },
  {
   "cell_type": "code",
   "execution_count": 23,
   "metadata": {},
   "outputs": [],
   "source": [
    "# Remove all rows with zero\n",
    "wb_pd = wb_pd[wb_pd[q_label] > 0.01 ]                                   "
   ]
  },
  {
   "cell_type": "code",
   "execution_count": 24,
   "metadata": {},
   "outputs": [],
   "source": [
    "# Generate a list of days in the month\n",
    "days_in_sheet = []\n",
    "for i, row in wb_pd[ts_label].iteritems():\n",
    "    if row.day not in days_in_sheet:\n",
    "        days_in_sheet.append(row.day)\n",
    "days_in_sheet = list(range(min(days_in_sheet), max(days_in_sheet)+1)) # Redo this part to make sure their are no missing days before and after"
   ]
  },
  {
   "cell_type": "code",
   "execution_count": 33,
   "metadata": {},
   "outputs": [
    {
     "name": "stdout",
     "output_type": "stream",
     "text": [
      "19\n",
      "20\n",
      "21\n",
      "22\n",
      "23\n",
      "24\n",
      "25\n",
      "26\n",
      "27\n",
      "28\n",
      "29\n",
      "30\n",
      "31\n",
      "19\n",
      "20\n",
      "21\n",
      "22\n",
      "23\n",
      "24\n",
      "25\n",
      "26\n",
      "27\n",
      "28\n",
      "29\n",
      "30\n",
      "31\n"
     ]
    }
   ],
   "source": [
    "month = wb_pd[ts_label].iloc[10].month          # It's lazy, but I just sample from the tenth row and grab the month number\n",
    "year = wb_pd[ts_label].iloc[10].year            # Lazy, grabbed the year\n",
    "\n",
    "AM = (wb_pd\n",
    "      .set_index(ts_label)\n",
    "      .between_time('0:00', '12:00')\n",
    "      .reset_index()\n",
    "      .copy()\n",
    "     )\n",
    "PM = (wb_pd\n",
    "      .set_index(ts_label)\n",
    "      .between_time('12:00', '0:00')\n",
    "      .reset_index()\n",
    "      .copy()\n",
    "      )\n",
    "\n",
    "for day in days_in_sheet:\n",
    "    print (day)\n",
    "    section = list(AM[(AM[ts_label] > pd.Timestamp(year=year, month=month, day=day)) & (AM[ts_label] < pd.Timestamp(year=year, month=month, day=day) + pd.DateOffset(1))][q_label].values)\n",
    "#     print (section)\n",
    "    col = AM_list[day-1]\n",
    "    wb_oxl[sheet][col + '1'] = pd.Timestamp(year=year, month=month, day=day).strftime('%Y-%b-%d')\n",
    "    wb_oxl[sheet][col + '2'] = 'Average Q (L/s)'\n",
    "\n",
    "    for index, val_q in enumerate(section):\n",
    "#         print(col + str(3+index))\n",
    "        wb_oxl[sheet][col + str(3+index)] = float(val_q)\n",
    "#         print (col)\n",
    "\n",
    "for day in days_in_sheet:\n",
    "    print (day)\n",
    "    section = list(PM[(PM[ts_label] > pd.Timestamp(year=year, month=month, day=day)) & (PM[ts_label] < pd.Timestamp(year=year, month=month, day=day) + pd.DateOffset(1))][q_label].values)\n",
    "#     print (section)\n",
    "    col = PM_list[day-1]\n",
    "    wb_oxl[sheet][col + '1'] = pd.Timestamp(year=year, month=month, day=day).strftime('%Y-%b-%d')\n",
    "    wb_oxl[sheet][col + '2'] = 'Average Q (L/s)'\n",
    "\n",
    "    for index, val_q in enumerate(section):\n",
    "        wb_oxl[sheet][col + str(3+index)] = float(val_q)"
   ]
  },
  {
   "cell_type": "code",
   "execution_count": 30,
   "metadata": {},
   "outputs": [
    {
     "data": {
      "text/plain": [
       "Timestamp('2019-07-31 00:00:00')"
      ]
     },
     "execution_count": 30,
     "metadata": {},
     "output_type": "execute_result"
    }
   ],
   "source": [
    "pd.Timestamp(year=year, month=month, day=day)"
   ]
  },
  {
   "cell_type": "code",
   "execution_count": 32,
   "metadata": {},
   "outputs": [
    {
     "data": {
      "text/plain": [
       "Timestamp('2019-08-01 00:00:00')"
      ]
     },
     "execution_count": 32,
     "metadata": {},
     "output_type": "execute_result"
    }
   ],
   "source": [
    "pd.Timestamp(year=year, month=month, day=day) + pd.DateOffset(1)"
   ]
  },
  {
   "cell_type": "code",
   "execution_count": 29,
   "metadata": {},
   "outputs": [
    {
     "data": {
      "text/html": [
       "<div>\n",
       "<style scoped>\n",
       "    .dataframe tbody tr th:only-of-type {\n",
       "        vertical-align: middle;\n",
       "    }\n",
       "\n",
       "    .dataframe tbody tr th {\n",
       "        vertical-align: top;\n",
       "    }\n",
       "\n",
       "    .dataframe thead th {\n",
       "        text-align: right;\n",
       "    }\n",
       "</style>\n",
       "<table border=\"1\" class=\"dataframe\">\n",
       "  <thead>\n",
       "    <tr style=\"text-align: right;\">\n",
       "      <th></th>\n",
       "      <th>Timestamp</th>\n",
       "      <th>Average Q (L/s)</th>\n",
       "    </tr>\n",
       "  </thead>\n",
       "  <tbody>\n",
       "  </tbody>\n",
       "</table>\n",
       "</div>"
      ],
      "text/plain": [
       "Empty DataFrame\n",
       "Columns: [Timestamp, Average Q (L/s)]\n",
       "Index: []"
      ]
     },
     "execution_count": 29,
     "metadata": {},
     "output_type": "execute_result"
    }
   ],
   "source": [
    "day=31\n",
    "AM[(AM[ts_label] > pd.Timestamp(year=year, month=month, day=day)) & (AM[ts_label] < pd.Timestamp(year=year, month=month, day=day) + pd.DateOffset(day=day+1))]"
   ]
  },
  {
   "cell_type": "code",
   "execution_count": null,
   "metadata": {},
   "outputs": [],
   "source": []
  },
  {
   "cell_type": "code",
   "execution_count": null,
   "metadata": {},
   "outputs": [],
   "source": [
    "section"
   ]
  },
  {
   "cell_type": "code",
   "execution_count": null,
   "metadata": {},
   "outputs": [],
   "source": [
    "pd.Timestamp(year=year, month=month, day=day) + pd.DateOffset(day=1)"
   ]
  },
  {
   "cell_type": "code",
   "execution_count": null,
   "metadata": {},
   "outputs": [],
   "source": [
    "AM = (wb_pd\n",
    "      .set_index(ts_label)\n",
    "      .between_time('0:00', '12:00')\n",
    "      .iloc[:,0].values)"
   ]
  },
  {
   "cell_type": "code",
   "execution_count": null,
   "metadata": {},
   "outputs": [],
   "source": [
    "col = 'F'\n",
    "wb_oxl[sheet][col + '1'] = pd.Timestamp(year=year, month=month, day=day).strftime('%Y-%b-%d')\n",
    "wb_oxl[sheet][col + '2'] = 'Average Q (L/s)'\n",
    "\n",
    "for index, val_q in enumerate(section):\n",
    "    wb_oxl[sheet][col + str(3+index)] = float(val_q)\n"
   ]
  },
  {
   "cell_type": "code",
   "execution_count": null,
   "metadata": {},
   "outputs": [],
   "source": [
    "type(float(section[0]))"
   ]
  },
  {
   "cell_type": "code",
   "execution_count": null,
   "metadata": {},
   "outputs": [],
   "source": [
    "col + '3:' + col + str(3+len(section))"
   ]
  },
  {
   "cell_type": "code",
   "execution_count": null,
   "metadata": {},
   "outputs": [],
   "source": []
  },
  {
   "cell_type": "code",
   "execution_count": null,
   "metadata": {},
   "outputs": [],
   "source": [
    "AM = (wb_pd\n",
    "      .set_index(ts_label)\n",
    "      .between_time('0:00', '12:00')\n",
    "      .iloc[:,0].values)\n",
    "PM = (wb_pd\n",
    "      .set_index(ts_label)\n",
    "      .between_time('12:00', '0:00')\n",
    "      .iloc[:,0].values)"
   ]
  },
  {
   "cell_type": "code",
   "execution_count": null,
   "metadata": {},
   "outputs": [],
   "source": [
    "# for day in days_in_sheet:\n",
    "#     print(day)\n",
    "day = 19"
   ]
  },
  {
   "cell_type": "code",
   "execution_count": null,
   "metadata": {},
   "outputs": [],
   "source": [
    "wb_pd\n"
   ]
  },
  {
   "cell_type": "code",
   "execution_count": null,
   "metadata": {},
   "outputs": [],
   "source": [
    "sheet = 'S2_July19'\n",
    "time_stamp = []\n",
    "flow_value = []\n",
    "for row in wb[sheet].iter_rows(min_row=wb[sheet].min_row,max_row=wb[sheet].max_row, min_col=1, max_col=1):\n",
    "    for cell in row:\n",
    "        time_stamp.append(cell.value)"
   ]
  },
  {
   "cell_type": "code",
   "execution_count": null,
   "metadata": {},
   "outputs": [],
   "source": []
  },
  {
   "cell_type": "code",
   "execution_count": null,
   "metadata": {},
   "outputs": [],
   "source": []
  },
  {
   "cell_type": "code",
   "execution_count": null,
   "metadata": {},
   "outputs": [],
   "source": []
  },
  {
   "cell_type": "code",
   "execution_count": null,
   "metadata": {},
   "outputs": [],
   "source": [
    "AM_list[day]"
   ]
  },
  {
   "cell_type": "code",
   "execution_count": null,
   "metadata": {},
   "outputs": [],
   "source": [
    "wb_pd[ts_label]"
   ]
  },
  {
   "cell_type": "code",
   "execution_count": null,
   "metadata": {},
   "outputs": [],
   "source": [
    "sheet = 'S2_July19'\n",
    "time_stamp = []\n",
    "flow_value = []\n",
    "for row in wb[sheet].iter_rows(min_row=wb[sheet].min_row,max_row=wb[sheet].max_row, min_col=1, max_col=1):\n",
    "    for cell in row:\n",
    "        time_stamp.append(cell.value)\n",
    "for row in wb[sheet].iter_rows(min_row=wb[sheet].min_row,max_row=wb[sheet].max_row, min_col=2, max_col=2):\n",
    "    for cell in row:\n",
    "        flow_value.append(cell.value)\n"
   ]
  },
  {
   "cell_type": "code",
   "execution_count": null,
   "metadata": {},
   "outputs": [],
   "source": [
    "pd.to_datetime(time_stamp[1:])"
   ]
  },
  {
   "cell_type": "code",
   "execution_count": null,
   "metadata": {},
   "outputs": [],
   "source": []
  },
  {
   "cell_type": "code",
   "execution_count": null,
   "metadata": {},
   "outputs": [],
   "source": [
    "wb_oxl = xl.load_workbook('Site2_Kanyamazane_Toad street_2019.xlsx')\n",
    "sheet = wb_oxl.sheetnames[0]"
   ]
  },
  {
   "cell_type": "code",
   "execution_count": null,
   "metadata": {},
   "outputs": [],
   "source": [
    "\n"
   ]
  },
  {
   "cell_type": "code",
   "execution_count": null,
   "metadata": {},
   "outputs": [],
   "source": []
  },
  {
   "cell_type": "code",
   "execution_count": null,
   "metadata": {},
   "outputs": [],
   "source": [
    "type(wb_pd.iloc[0][1])"
   ]
  },
  {
   "cell_type": "code",
   "execution_count": 34,
   "metadata": {},
   "outputs": [],
   "source": [
    "wb_oxl.save('balances.xlsx')"
   ]
  },
  {
   "cell_type": "code",
   "execution_count": null,
   "metadata": {},
   "outputs": [],
   "source": []
  }
 ],
 "metadata": {
  "kernelspec": {
   "display_name": "Python 3",
   "language": "python",
   "name": "python3"
  }
 },
 "nbformat": 4,
 "nbformat_minor": 2
}
